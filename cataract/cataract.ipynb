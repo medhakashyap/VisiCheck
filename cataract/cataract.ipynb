{
 "cells": [
  {
   "cell_type": "markdown",
   "metadata": {},
   "source": [
    "# Import modules"
   ]
  },
  {
   "cell_type": "code",
   "execution_count": 3,
   "metadata": {},
   "outputs": [
    {
     "name": "stdout",
     "output_type": "stream",
     "text": [
      "Defaulting to user installation because normal site-packages is not writeable\n",
      "Collecting efficientnet\n",
      "  Downloading efficientnet-1.1.1-py3-none-any.whl.metadata (6.4 kB)\n",
      "Collecting keras-applications<=1.0.8,>=1.0.7 (from efficientnet)\n",
      "  Downloading Keras_Applications-1.0.8-py3-none-any.whl.metadata (1.7 kB)\n",
      "Requirement already satisfied: scikit-image in c:\\users\\medha\\appdata\\roaming\\python\\python311\\site-packages (from efficientnet) (0.23.2)\n",
      "Requirement already satisfied: numpy>=1.9.1 in c:\\users\\medha\\appdata\\roaming\\python\\python311\\site-packages (from keras-applications<=1.0.8,>=1.0.7->efficientnet) (1.26.4)\n",
      "Requirement already satisfied: h5py in c:\\users\\medha\\appdata\\roaming\\python\\python311\\site-packages (from keras-applications<=1.0.8,>=1.0.7->efficientnet) (3.11.0)\n",
      "Requirement already satisfied: scipy>=1.9 in c:\\users\\medha\\appdata\\roaming\\python\\python311\\site-packages (from scikit-image->efficientnet) (1.13.0)\n",
      "Requirement already satisfied: networkx>=2.8 in c:\\users\\medha\\appdata\\roaming\\python\\python311\\site-packages (from scikit-image->efficientnet) (3.3)\n",
      "Requirement already satisfied: pillow>=9.1 in c:\\users\\medha\\appdata\\roaming\\python\\python311\\site-packages (from scikit-image->efficientnet) (10.3.0)\n",
      "Requirement already satisfied: imageio>=2.33 in c:\\users\\medha\\appdata\\roaming\\python\\python311\\site-packages (from scikit-image->efficientnet) (2.34.1)\n",
      "Requirement already satisfied: tifffile>=2022.8.12 in c:\\users\\medha\\appdata\\roaming\\python\\python311\\site-packages (from scikit-image->efficientnet) (2024.4.18)\n",
      "Requirement already satisfied: packaging>=21 in c:\\users\\medha\\appdata\\roaming\\python\\python311\\site-packages (from scikit-image->efficientnet) (24.0)\n",
      "Requirement already satisfied: lazy-loader>=0.4 in c:\\users\\medha\\appdata\\roaming\\python\\python311\\site-packages (from scikit-image->efficientnet) (0.4)\n",
      "Downloading efficientnet-1.1.1-py3-none-any.whl (18 kB)\n",
      "Downloading Keras_Applications-1.0.8-py3-none-any.whl (50 kB)\n",
      "   ---------------------------------------- 0.0/50.7 kB ? eta -:--:--\n",
      "   ---------------------------------------- 50.7/50.7 kB 2.7 MB/s eta 0:00:00\n",
      "Installing collected packages: keras-applications, efficientnet\n",
      "Successfully installed efficientnet-1.1.1 keras-applications-1.0.8\n",
      "Note: you may need to restart the kernel to use updated packages.\n"
     ]
    }
   ],
   "source": [
    "pip install efficientnet"
   ]
  },
  {
   "cell_type": "code",
   "execution_count": 4,
   "metadata": {},
   "outputs": [],
   "source": [
    "import os, glob, cv2  \n",
    "import numpy as np  \n",
    "import pandas as pd  \n",
    "import matplotlib.pyplot as plt  \n",
    "from sklearn.model_selection import train_test_split  \n",
    "import tensorflow as tf  \n",
    "from tensorflow.keras.layers import *  \n",
    "from tensorflow.keras import backend as K  \n",
    "from tensorflow.keras.models import Sequential  \n",
    "from tensorflow.keras.preprocessing.image import ImageDataGenerator  \n",
    "from tensorflow.keras.utils import get_custom_objects  \n",
    "import efficientnet.tfkeras as efn  \n",
    "from tqdm import tqdm  "
   ]
  },
  {
   "cell_type": "code",
   "execution_count": null,
   "metadata": {},
   "outputs": [],
   "source": [
    "import os\n",
    "import numpy as np\n",
    "import pandas as pd\n",
    "\n",
    "SEED = 42\n",
    "EPOCHS = 100\n",
    "SIZE_BATCH = 32\n",
    "HEIGHT_IMG = 192\n",
    "WIDTH_IMG = 256\n",
    "\n",
    "# Dataset: cataract\n",
    "ROOT_IMG = \"C:\\\\Users\\\\medha\\\\Desktop\\\\VisiCheck\\\\cataract\\\\dataset\"\n",
    "DIR_IMG = [\n",
    "    os.path.join(ROOT_IMG, '1_normal'),\n",
    "    os.path.join(ROOT_IMG, '2_cataract'),\n",
    "    os.path.join(ROOT_IMG, '2_glaucoma'),\n",
    "    os.path.join(ROOT_IMG, '3_retina_disease')\n",
    "]\n",
    "\n",
    "# Dataset: ocular-disease-recognition dataset\n",
    "ROOT_IMG_OCU = '/path/to/ocular-disease-recognition-odir5k/ODIR-5K/Training Images/'\n",
    "dataframe_ocu = pd.read_excel('/path/to/ocular-disease-recognition-odir5k/ODIR-5K/data.xlsx')"
   ]
  }
 ],
 "metadata": {
  "kernelspec": {
   "display_name": "Python 3",
   "language": "python",
   "name": "python3"
  },
  "language_info": {
   "codemirror_mode": {
    "name": "ipython",
    "version": 3
   },
   "file_extension": ".py",
   "mimetype": "text/x-python",
   "name": "python",
   "nbconvert_exporter": "python",
   "pygments_lexer": "ipython3",
   "version": "3.11.4"
  }
 },
 "nbformat": 4,
 "nbformat_minor": 2
}
